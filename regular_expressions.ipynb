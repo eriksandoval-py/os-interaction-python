{
 "cells": [
  {
   "cell_type": "markdown",
   "id": "88d6382c-94f6-4bcd-889f-2ee85fc008d3",
   "metadata": {},
   "source": [
    "# Regular Expressions\n",
    "Regular expressions are extremely useful in data processing and textual searching. They can identify and return certain patterns of text. This is a lot easier than using the normal methods found inside of Python and other languages for text processing. "
   ]
  },
  {
   "cell_type": "markdown",
   "id": "6510875a-ad87-44e0-a4f8-b62349a77863",
   "metadata": {},
   "source": [
    "## Imports\n",
    "Python has a dedicated module that can be impoted using `import re`. Run the following line code block to import the module:"
   ]
  },
  {
   "cell_type": "code",
   "execution_count": 1,
   "id": "b7a8278c-c0c6-4afb-8d96-da50f25ceea7",
   "metadata": {},
   "outputs": [],
   "source": [
    "import re"
   ]
  },
  {
   "cell_type": "markdown",
   "id": "610b960e-a7b5-4d88-a298-8aa6d395c4e0",
   "metadata": {},
   "source": [
    "Now that we have it imported we can begin to use it:"
   ]
  },
  {
   "cell_type": "code",
   "execution_count": 4,
   "id": "3d0ef139-5e5d-4b7a-8a53-ef6d5472a34d",
   "metadata": {},
   "outputs": [
    {
     "data": {
      "text/plain": [
       "<re.Match object; span=(1, 4), match='aza'>"
      ]
     },
     "execution_count": 4,
     "metadata": {},
     "output_type": "execute_result"
    }
   ],
   "source": [
    "result = re.search(r'aza', 'raza')\n",
    "result"
   ]
  },
  {
   "cell_type": "markdown",
   "id": "d93c3b12-5c24-4b81-802d-b895c3cebfd6",
   "metadata": {},
   "source": [
    "The `search()` method found inside of the `re` module returns a `re.Match` object that has both the span (the indices of the string where the match is found), as well as the match itself. "
   ]
  },
  {
   "cell_type": "markdown",
   "id": "def690cd-486b-41fe-aef4-fc78da062878",
   "metadata": {},
   "source": [
    "If there is no match then `None` is returned. "
   ]
  },
  {
   "cell_type": "markdown",
   "id": "d47c404a-2635-4aca-8599-1876cc6a774d",
   "metadata": {},
   "source": [
    "## Character Classes and Wildcards"
   ]
  },
  {
   "cell_type": "markdown",
   "id": "219a1e78-df36-43b2-bde2-a46ca904403d",
   "metadata": {},
   "source": [
    "Here is a list of all the metacharacters: \n",
    ". ^ $ * + ? { } [ ] \\ | ( )"
   ]
  },
  {
   "cell_type": "markdown",
   "id": "325b10e2-856c-4d6b-af86-590bf89d2597",
   "metadata": {},
   "source": [
    "The first metacharacters we will look at are `[` and `]`. These can be used to specify character classes. Character classes are a set of characters you wish to match. Characters may be listed individually or with a range (a-z). Metacharacters are not active inside of `[]`, with the exception of `\\`"
   ]
  },
  {
   "cell_type": "code",
   "execution_count": null,
   "id": "5f66bb87-a7ef-47f4-b410-361c723b6cd1",
   "metadata": {},
   "outputs": [],
   "source": []
  }
 ],
 "metadata": {
  "kernelspec": {
   "display_name": "Python 3 (ipykernel)",
   "language": "python",
   "name": "python3"
  },
  "language_info": {
   "codemirror_mode": {
    "name": "ipython",
    "version": 3
   },
   "file_extension": ".py",
   "mimetype": "text/x-python",
   "name": "python",
   "nbconvert_exporter": "python",
   "pygments_lexer": "ipython3",
   "version": "3.10.9"
  }
 },
 "nbformat": 4,
 "nbformat_minor": 5
}
