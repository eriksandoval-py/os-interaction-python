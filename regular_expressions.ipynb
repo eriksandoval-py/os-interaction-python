{
 "cells": [
  {
   "cell_type": "markdown",
   "id": "88d6382c-94f6-4bcd-889f-2ee85fc008d3",
   "metadata": {},
   "source": [
    "# Regular Expressions\n",
    "Regular expressions are extremely useful in data processing and textual searching. They can identify and return certain patterns of text. This is a lot easier than using the normal methods found inside of Python and other languages for text processing. "
   ]
  },
  {
   "cell_type": "markdown",
   "id": "6510875a-ad87-44e0-a4f8-b62349a77863",
   "metadata": {},
   "source": [
    "## Imports\n",
    "Python has a dedicated module that can be imported using `import re`. Run the following line code block to import the module:"
   ]
  },
  {
   "cell_type": "code",
   "execution_count": 1,
   "id": "b7a8278c-c0c6-4afb-8d96-da50f25ceea7",
   "metadata": {},
   "outputs": [],
   "source": [
    "import re"
   ]
  },
  {
   "cell_type": "markdown",
   "id": "610b960e-a7b5-4d88-a298-8aa6d395c4e0",
   "metadata": {},
   "source": [
    "Now that we have it imported we can begin to use it:"
   ]
  },
  {
   "cell_type": "code",
   "execution_count": 2,
   "id": "3d0ef139-5e5d-4b7a-8a53-ef6d5472a34d",
   "metadata": {},
   "outputs": [
    {
     "data": {
      "text/plain": [
       "<re.Match object; span=(0, 6), match='dragon'>"
      ]
     },
     "execution_count": 2,
     "metadata": {},
     "output_type": "execute_result"
    }
   ],
   "source": [
    "re.search(r'dragon', 'dragonball z')"
   ]
  },
  {
   "cell_type": "markdown",
   "id": "d93c3b12-5c24-4b81-802d-b895c3cebfd6",
   "metadata": {},
   "source": [
    "The `search()` method found inside of the `re` module returns a `re.Match` object that has both the span (the indices of the string where the match is found), as well as the match itself. "
   ]
  },
  {
   "cell_type": "markdown",
   "id": "def690cd-486b-41fe-aef4-fc78da062878",
   "metadata": {},
   "source": [
    "If there is no match then `None` is returned. "
   ]
  },
  {
   "cell_type": "markdown",
   "id": "c995441a-86b1-4bbc-b45e-68bd1f92034d",
   "metadata": {},
   "source": [
    "One more thing to keep in mind is that the best practice for regular expressions is to use `raw strings` - denoted by `r`. What this does is make Python not interpret special escape characters, etc. "
   ]
  },
  {
   "cell_type": "markdown",
   "id": "d47c404a-2635-4aca-8599-1876cc6a774d",
   "metadata": {},
   "source": [
    "## Character Classes and Wildcards"
   ]
  },
  {
   "cell_type": "markdown",
   "id": "219a1e78-df36-43b2-bde2-a46ca904403d",
   "metadata": {},
   "source": [
    "Here is a list of all the metacharacters:"
   ]
  },
  {
   "cell_type": "markdown",
   "id": "a970d435-6b2d-4de0-8d6d-8d78b0ce56ba",
   "metadata": {},
   "source": [
    "`. ^ $ * + ? { } [ ] \\ | ( )`"
   ]
  },
  {
   "cell_type": "markdown",
   "id": "325b10e2-856c-4d6b-af86-590bf89d2597",
   "metadata": {},
   "source": [
    "The first metacharacters we will look at are `[` and `]`. These can be used to specify character classes. Character classes are a set of characters you wish to match. Characters may be listed individually or with a range (a-z). Metacharacters are not active inside of `[]`, with the exception of `\\`"
   ]
  },
  {
   "cell_type": "markdown",
   "id": "694419de-fb3d-45b7-bb86-d8bd51d95f06",
   "metadata": {},
   "source": [
    "The `.` wildcard is the broadest of them all. It can match to any character. For example:"
   ]
  },
  {
   "cell_type": "code",
   "execution_count": 3,
   "id": "98ab626a-70f9-4ea9-8501-71c378a32ba9",
   "metadata": {},
   "outputs": [
    {
     "data": {
      "text/plain": [
       "<re.Match object; span=(0, 6), match='dragon'>"
      ]
     },
     "execution_count": 3,
     "metadata": {},
     "output_type": "execute_result"
    }
   ],
   "source": [
    "re.search(r'd.agon', 'dragon')"
   ]
  },
  {
   "cell_type": "code",
   "execution_count": 4,
   "id": "871870d2-21cb-4074-8c31-d5da02c9cc4e",
   "metadata": {},
   "outputs": [
    {
     "data": {
      "text/plain": [
       "<re.Match object; span=(0, 6), match='dzagon'>"
      ]
     },
     "execution_count": 4,
     "metadata": {},
     "output_type": "execute_result"
    }
   ],
   "source": [
    "re.search(r'd.agon', 'dzagon')"
   ]
  },
  {
   "cell_type": "markdown",
   "id": "add926a6-81f6-46e7-92f1-9788b84d8e69",
   "metadata": {},
   "source": [
    "As you can see, the `.` allows a match for both because it matches to any character. "
   ]
  },
  {
   "cell_type": "markdown",
   "id": "a2df544a-9a8e-43fe-93ae-b3d95d100f30",
   "metadata": {},
   "source": [
    "We can also pass other options like case sensitivity into our search function:"
   ]
  },
  {
   "cell_type": "code",
   "execution_count": 5,
   "id": "95acf765-0810-4ed8-8cac-51cfe9b51874",
   "metadata": {},
   "outputs": [
    {
     "data": {
      "text/plain": [
       "<re.Match object; span=(0, 6), match='DZAGON'>"
      ]
     },
     "execution_count": 5,
     "metadata": {},
     "output_type": "execute_result"
    }
   ],
   "source": [
    "re.search(r'd.agon', 'DZAGON', re.IGNORECASE)"
   ]
  },
  {
   "cell_type": "markdown",
   "id": "fb6d1bae-b146-40f8-8c72-c95b8cefb8c6",
   "metadata": {},
   "source": [
    "Now let's add character classes into the mix. Remember that character classes allow us to define a set or range of characters to attempt to match. Like so:"
   ]
  },
  {
   "cell_type": "code",
   "execution_count": 6,
   "id": "0f3c9e92-169c-4118-b5e0-42147faf16a4",
   "metadata": {},
   "outputs": [
    {
     "data": {
      "text/plain": [
       "<re.Match object; span=(0, 6), match='Dragon'>"
      ]
     },
     "execution_count": 6,
     "metadata": {},
     "output_type": "execute_result"
    }
   ],
   "source": [
    "re.search(r'[Dd]ragon', 'Dragonball z')"
   ]
  },
  {
   "cell_type": "code",
   "execution_count": 7,
   "id": "2d44a893-cbc6-4b61-bd1b-7f7ab2b6768f",
   "metadata": {},
   "outputs": [
    {
     "data": {
      "text/plain": [
       "<re.Match object; span=(0, 6), match='dragon'>"
      ]
     },
     "execution_count": 7,
     "metadata": {},
     "output_type": "execute_result"
    }
   ],
   "source": [
    "re.search(r'[Dd]ragon', 'dragonball z')"
   ]
  },
  {
   "cell_type": "markdown",
   "id": "32a70dd4-718e-4428-bc26-6a574f3e923a",
   "metadata": {},
   "source": [
    "Again, our search matches both. It will match either a lowercase or uppercase `D` followed by `ragon`. "
   ]
  },
  {
   "cell_type": "markdown",
   "id": "27ff7d83-76ce-431d-b0e8-fb6fdf924c3e",
   "metadata": {},
   "source": [
    "As mentioned earlier, character classes can also define a range:"
   ]
  },
  {
   "cell_type": "code",
   "execution_count": 8,
   "id": "9f971fe0-17e3-4d25-abbb-6b374b8a6131",
   "metadata": {},
   "outputs": [
    {
     "data": {
      "text/plain": [
       "<re.Match object; span=(0, 6), match='uragon'>"
      ]
     },
     "execution_count": 8,
     "metadata": {},
     "output_type": "execute_result"
    }
   ],
   "source": [
    "re.search(r'[a-zA-Z]ragon', 'uragon')"
   ]
  },
  {
   "cell_type": "code",
   "execution_count": 9,
   "id": "4f3484b9-66cd-454c-906c-6b4df129aaeb",
   "metadata": {},
   "outputs": [
    {
     "data": {
      "text/plain": [
       "<re.Match object; span=(0, 6), match='Eragon'>"
      ]
     },
     "execution_count": 9,
     "metadata": {},
     "output_type": "execute_result"
    }
   ],
   "source": [
    "re.search(r'[a-zA-Z]ragon', 'Eragon is a good movie')"
   ]
  },
  {
   "cell_type": "markdown",
   "id": "120d893d-a977-4691-b9eb-273e80ba4e33",
   "metadata": {},
   "source": [
    "You can combine as many ranges and symbols as want."
   ]
  },
  {
   "cell_type": "markdown",
   "id": "4c7811f3-5c63-4228-a82e-9581574637e0",
   "metadata": {},
   "source": [
    "Now for example let's say we wanted to match something not found in the character class. This is possible with the circumflex `^` or carrot symbol:"
   ]
  },
  {
   "cell_type": "code",
   "execution_count": 10,
   "id": "7fb7bef5-0ded-4611-bd77-4e5924b2e6f7",
   "metadata": {},
   "outputs": [
    {
     "data": {
      "text/plain": [
       "<re.Match object; span=(4, 5), match=' '>"
      ]
     },
     "execution_count": 10,
     "metadata": {},
     "output_type": "execute_result"
    }
   ],
   "source": [
    "re.search(r'[^a-zA-Z]', 'What is your favorite food?')"
   ]
  },
  {
   "cell_type": "markdown",
   "id": "bb06197b-1bd4-445a-8820-522ec7686d5b",
   "metadata": {},
   "source": [
    "The `^` can kind of be thought of as a not. In the above example it matches the first character found that is NOT in the character class. In this case it would be a space, since it was not added in the character class. Watch how quickly we can change that though:"
   ]
  },
  {
   "cell_type": "code",
   "execution_count": 11,
   "id": "f769984a-6739-45ed-99a9-17b58dc024ab",
   "metadata": {},
   "outputs": [
    {
     "data": {
      "text/plain": [
       "<re.Match object; span=(26, 27), match='?'>"
      ]
     },
     "execution_count": 11,
     "metadata": {},
     "output_type": "execute_result"
    }
   ],
   "source": [
    "re.search(r'[^a-zA-Z ]', 'What is your favorite food?')"
   ]
  },
  {
   "cell_type": "markdown",
   "id": "cc23dc15-e06c-4081-8983-c758d961c67b",
   "metadata": {},
   "source": [
    "Now that we added the space character into the character class, the only remaining option for a match would be the `?`. "
   ]
  },
  {
   "cell_type": "markdown",
   "id": "4f70dfdd-de85-42e1-92d1-3b8916d045b6",
   "metadata": {},
   "source": [
    "So we are now familiar with how to search for one certain sequence, but what about multiple? This can be accomplished using `|`, the pipe symbol. This may be familiar to programmers as the OR symbol, and it can be applied in exactly the same way with Regular Expressions like so:"
   ]
  },
  {
   "cell_type": "code",
   "execution_count": 12,
   "id": "d839339d-b823-40db-a726-a95b39a8f2e4",
   "metadata": {},
   "outputs": [
    {
     "data": {
      "text/plain": [
       "<re.Match object; span=(0, 4), match='Goku'>"
      ]
     },
     "execution_count": 12,
     "metadata": {},
     "output_type": "execute_result"
    }
   ],
   "source": [
    "re.search('Goku|Vegeta', 'Goku is stronger than Vegeta')"
   ]
  },
  {
   "cell_type": "markdown",
   "id": "e5d86f66-3d80-40e3-a204-d366f2838a1b",
   "metadata": {},
   "source": [
    "This will return the first match, but not all matches. If we wanted to pull all matches from the text then we would have to incorporate `findall()`:"
   ]
  },
  {
   "cell_type": "code",
   "execution_count": 13,
   "id": "63db8315-27a6-488c-b170-ef8b136ae3f0",
   "metadata": {},
   "outputs": [
    {
     "data": {
      "text/plain": [
       "['Goku', 'Vegeta']"
      ]
     },
     "execution_count": 13,
     "metadata": {},
     "output_type": "execute_result"
    }
   ],
   "source": [
    "re.findall('Goku|Vegeta', 'Goku is stronger than Vegeta')"
   ]
  },
  {
   "cell_type": "markdown",
   "id": "3cd1e097-4e95-47fe-be70-f4fdbe6af274",
   "metadata": {},
   "source": [
    "If there are multiple matches in the string then the function will return a list of all matches contained just like above."
   ]
  },
  {
   "cell_type": "markdown",
   "id": "feb258b4-acab-46f6-b459-a54fcd33dbb5",
   "metadata": {},
   "source": [
    "Next up are repition qualifiers. "
   ]
  },
  {
   "cell_type": "markdown",
   "id": "6e4e82d6-60d7-48c3-917a-f8cb19166564",
   "metadata": {},
   "source": [
    "## Repitition Qualifiers"
   ]
  },
  {
   "cell_type": "markdown",
   "id": "61cb0910-f268-42ee-a553-1cfcd1c4ae89",
   "metadata": {},
   "source": [
    "Repitition qualifiers enable you to be able to match characters several times. It is very common to see expressions containing a `.` followed by a `*`. We already know that the dot matches any character, but if followed by the star, it enables a match on any characters of any amount. "
   ]
  },
  {
   "cell_type": "code",
   "execution_count": 14,
   "id": "9c5569a6-435a-4787-8efe-034e209286c0",
   "metadata": {},
   "outputs": [
    {
     "data": {
      "text/plain": [
       "<re.Match object; span=(0, 14), match='Dragooooooooon'>"
      ]
     },
     "execution_count": 14,
     "metadata": {},
     "output_type": "execute_result"
    }
   ],
   "source": [
    "re.search(r'Dr.*n', 'Dragooooooooon')"
   ]
  },
  {
   "cell_type": "code",
   "execution_count": 15,
   "id": "26dd4e2e-5218-414d-97b1-dcdc84b5ae08",
   "metadata": {},
   "outputs": [
    {
     "data": {
      "text/plain": [
       "<re.Match object; span=(0, 28), match='Dragoooiuhoioqjedfafgno0000n'>"
      ]
     },
     "execution_count": 15,
     "metadata": {},
     "output_type": "execute_result"
    }
   ],
   "source": [
    "re.search(r'Dr.*n', 'Dragoooiuhoioqjedfafgno0000n')"
   ]
  },
  {
   "cell_type": "markdown",
   "id": "490d84c9-4c85-4867-b955-2991b8281a6e",
   "metadata": {},
   "source": [
    "See? It doesn't matter how many characters or in what order they are. As long as the string contains a 'Dr' and 'n' at the end it will match. "
   ]
  },
  {
   "cell_type": "markdown",
   "id": "5e6902b1-bca0-4efc-a11c-230146a9c6ba",
   "metadata": {},
   "source": [
    "One thing to keep in mind is that it can also match 0 characters as well as infinte characters. "
   ]
  },
  {
   "cell_type": "markdown",
   "id": "d6e985cd-337e-43f8-b03e-90bc6596abd7",
   "metadata": {},
   "source": [
    "The `+` qualifier is similar but has some differences. It matches 1 or more characters, in contrast to the 0 or more characters from before. On top of that, it only matches the character that comes immediately before it:"
   ]
  },
  {
   "cell_type": "code",
   "execution_count": 16,
   "id": "3cb94ce7-e5d5-4a55-a1d8-2daa8e805e3f",
   "metadata": {},
   "outputs": [
    {
     "data": {
      "text/plain": [
       "<re.Match object; span=(0, 15), match='Draaaaagoooooon'>"
      ]
     },
     "execution_count": 16,
     "metadata": {},
     "output_type": "execute_result"
    }
   ],
   "source": [
    "re.search(r'Dra+go+n', 'Draaaaagoooooon')"
   ]
  },
  {
   "cell_type": "markdown",
   "id": "84d3255a-8478-486d-bc5d-696c08198a75",
   "metadata": {},
   "source": [
    "Here there is a match, but there won't be a match in the following one:"
   ]
  },
  {
   "cell_type": "code",
   "execution_count": 17,
   "id": "01c01161-f44a-4b68-ae11-8140d9055c49",
   "metadata": {},
   "outputs": [],
   "source": [
    "re.search(r'Dra+go+n', 'Drrrraaagoooon')"
   ]
  },
  {
   "cell_type": "markdown",
   "id": "6451c8ca-f644-4897-a98e-ab4a65a764ed",
   "metadata": {},
   "source": [
    "Another repitition qualifier is the `?`. Essentially, it means 0 or 1 occurence of the character before it. It will match if the character before it is there, or isn't there, but not if there is a different character:"
   ]
  },
  {
   "cell_type": "code",
   "execution_count": 18,
   "id": "b000254a-134c-473d-9fb6-5656877d8649",
   "metadata": {},
   "outputs": [
    {
     "data": {
      "text/plain": [
       "<re.Match object; span=(6, 10), match='neat'>"
      ]
     },
     "execution_count": 18,
     "metadata": {},
     "output_type": "execute_result"
    }
   ],
   "source": [
    "re.search(r'n?eat', 'It is neat to eat apples.')"
   ]
  },
  {
   "cell_type": "markdown",
   "id": "430cc919-8e05-4ca4-a174-5e490f21d6a9",
   "metadata": {},
   "source": [
    "So it matches the first qualifying substring, but let's use `findall()` to match all of them:"
   ]
  },
  {
   "cell_type": "code",
   "execution_count": 19,
   "id": "728b7afe-72db-4a19-b0a8-0cb155c04f42",
   "metadata": {},
   "outputs": [
    {
     "data": {
      "text/plain": [
       "['neat', 'eat']"
      ]
     },
     "execution_count": 19,
     "metadata": {},
     "output_type": "execute_result"
    }
   ],
   "source": [
    "re.findall(r'n?eat', 'It is neat to eat apples.')"
   ]
  },
  {
   "cell_type": "markdown",
   "id": "8d15eae4-f4d0-4eac-99a5-46b2d296f09c",
   "metadata": {},
   "source": [
    "See? Super cool right?"
   ]
  },
  {
   "cell_type": "markdown",
   "id": "87bd9bbb-c904-4f79-b79e-a068bc2a1ca5",
   "metadata": {},
   "source": [
    "As mentioned earlier, it will match 0 or 1 occurences of the character immediately before it, but not more than 1. The best way of thinking of this is as 'optional'."
   ]
  },
  {
   "cell_type": "markdown",
   "id": "8270854d-d164-4090-b2dd-38462edd90f9",
   "metadata": {},
   "source": [
    "But wait, what if one of the characters that need to be matched are one of the metacharacters? For that there are `escaping characters`."
   ]
  },
  {
   "cell_type": "markdown",
   "id": "3fb37bc3-b623-45bd-a127-5b5efb1f08eb",
   "metadata": {},
   "source": [
    "## Escaping Characters"
   ]
  },
  {
   "cell_type": "markdown",
   "id": "8dc757a4-c101-46f7-8335-d42f413fe34e",
   "metadata": {},
   "source": [
    "The escape character will be very similar to any other languages escape sequence. It is the backslash `\\`. For example:"
   ]
  },
  {
   "cell_type": "code",
   "execution_count": 20,
   "id": "0a84ff53-e9f9-4006-9e19-d970d25c6d66",
   "metadata": {},
   "outputs": [],
   "source": [
    "re.search(r'\\.llo', 'hello')"
   ]
  },
  {
   "cell_type": "markdown",
   "id": "045da03b-47f3-446b-b5ae-95dde4c45066",
   "metadata": {},
   "source": [
    "No match. But try this:"
   ]
  },
  {
   "cell_type": "code",
   "execution_count": 21,
   "id": "a8a2c9bf-1a0f-4a55-9d4e-be6076f6b169",
   "metadata": {},
   "outputs": [
    {
     "data": {
      "text/plain": [
       "<re.Match object; span=(1, 5), match='ello'>"
      ]
     },
     "execution_count": 21,
     "metadata": {},
     "output_type": "execute_result"
    }
   ],
   "source": [
    "re.search(r'.llo', 'hello')"
   ]
  },
  {
   "cell_type": "markdown",
   "id": "8198b7b1-f30a-43f0-8645-a2ec6e2ae343",
   "metadata": {},
   "source": [
    "Basically, using the escape character allows the following metacharacter to be matched literally instead of performing its typical function."
   ]
  },
  {
   "cell_type": "markdown",
   "id": "f215a7c7-334f-4943-a6f8-f7925215f862",
   "metadata": {},
   "source": [
    "The reason we use raw strings is to avoid the escape character from interfering with some key special characters like: "
   ]
  },
  {
   "cell_type": "markdown",
   "id": "06ec5843-3f47-4f43-81a0-52a772bae26f",
   "metadata": {},
   "source": [
    "`\\w, \\d, \\s, \\b`"
   ]
  },
  {
   "cell_type": "markdown",
   "id": "7b6c50fc-808e-4723-944e-b60b92a7d779",
   "metadata": {},
   "source": [
    "These can be used as shorthand for matching:\n",
    "1. Alphanumeric characters (including underscores)\n",
    "2. Digits\n",
    "3. Whitespace (space, tab, newline)\n",
    "4. Word boundaries\n",
    "\n",
    "But there are also a few others."
   ]
  },
  {
   "cell_type": "markdown",
   "id": "41a3b9c4-041c-4c0d-8665-951c5877e52d",
   "metadata": {},
   "source": [
    "Two other important metacharacters are the `^` and `$`. They are used to mark the beginning and end up a requested match. Here are two examples, with only one utilizing the two metacharacters, so you can see the difference in the strictness:"
   ]
  },
  {
   "cell_type": "code",
   "execution_count": 22,
   "id": "a0ce2a94-864e-420c-8424-31e765269ca2",
   "metadata": {},
   "outputs": [
    {
     "data": {
      "text/plain": [
       "<re.Match object; span=(0, 7), match='Tuesday'>"
      ]
     },
     "execution_count": 22,
     "metadata": {},
     "output_type": "execute_result"
    }
   ],
   "source": [
    "re.search(r'Tuesday', 'Tuesdays')"
   ]
  },
  {
   "cell_type": "code",
   "execution_count": 23,
   "id": "1e952ee2-bbec-4d31-b3c5-9786121b411f",
   "metadata": {},
   "outputs": [],
   "source": [
    "re.search(r'^Tuesday$', 'Tuesdays')"
   ]
  },
  {
   "cell_type": "markdown",
   "id": "01b44b01-61ad-4069-9817-eb23532dd1eb",
   "metadata": {},
   "source": [
    "See how there is no match for the second example? By placing the carrot at the beginning and dollar sign at the end you are creating a much more strict match parameter. In essence it is forcing the line to match, rather than allowing a substring to match as in the first example."
   ]
  },
  {
   "cell_type": "markdown",
   "id": "236a1897-2220-4f00-b089-d3199c154cf8",
   "metadata": {},
   "source": [
    "Now all of this information can be tied together with the final section, capturing groups."
   ]
  },
  {
   "cell_type": "markdown",
   "id": "fad2f8f4-ed7e-4189-9ea2-0e0f4e431d72",
   "metadata": {},
   "source": [
    "## Capturing Groups\n",
    "Finding and printing matches is great but most of the time we are going to want to capture the information and use it for something else. This can be accomplished using `capturing groups`. To take advantage of this feature you first need to create a variable to hold your match results. Then you can access the groups from within that variable. The process will be similar to before:"
   ]
  },
  {
   "cell_type": "code",
   "execution_count": 24,
   "id": "dbf98b97-ca5b-4ec3-9c69-2cc62e66c1f7",
   "metadata": {},
   "outputs": [],
   "source": [
    "match_results = re.search(r'^(\\w*), (\\w*)$', 'Sandoval, Erik')"
   ]
  },
  {
   "cell_type": "markdown",
   "id": "0e80662d-6931-4b1a-9670-cf6be2424035",
   "metadata": {},
   "source": [
    "Now we can access the groups using the `groups()` method:"
   ]
  },
  {
   "cell_type": "code",
   "execution_count": 25,
   "id": "1734a86f-7a84-4bd2-a37b-8808548e7a17",
   "metadata": {},
   "outputs": [
    {
     "name": "stdout",
     "output_type": "stream",
     "text": [
      "('Sandoval', 'Erik')\n"
     ]
    }
   ],
   "source": [
    "print(match_results.groups())"
   ]
  },
  {
   "cell_type": "markdown",
   "id": "284b309e-96a6-4fd1-8eeb-6774a46a1864",
   "metadata": {},
   "source": [
    "This stores our groups as a Python tuple. The tuple obviouly is unmodifiable, but that is okay because it is only used to store and access the groups. Now lets say we wanted to reverse the order so that it says 'Erik Sandoval' instead. Just access the elements using indexes and rearrange them how you would like:"
   ]
  },
  {
   "cell_type": "code",
   "execution_count": 26,
   "id": "7c444331-71b2-49be-adb8-63a6943117f0",
   "metadata": {},
   "outputs": [
    {
     "name": "stdout",
     "output_type": "stream",
     "text": [
      "Erik Sandoval\n"
     ]
    }
   ],
   "source": [
    "print(match_results.groups()[1], match_results.groups()[0])"
   ]
  },
  {
   "cell_type": "markdown",
   "id": "173c4fd1-6204-4145-85a5-d1fdce98632e",
   "metadata": {},
   "source": [
    "Tada!!! Super cool. So much utility in such a small package. That is the power of regular expressions. That covers all of the fundamentals of regular expressions in Python. Obviously these features can be combind to make much more complex and rich expressions, make sure to practice more and get an understanding of real world use cases like parsing through employee records, extracting IDs, etc. "
   ]
  }
 ],
 "metadata": {
  "kernelspec": {
   "display_name": "Python 3 (ipykernel)",
   "language": "python",
   "name": "python3"
  },
  "language_info": {
   "codemirror_mode": {
    "name": "ipython",
    "version": 3
   },
   "file_extension": ".py",
   "mimetype": "text/x-python",
   "name": "python",
   "nbconvert_exporter": "python",
   "pygments_lexer": "ipython3",
   "version": "3.11.0"
  }
 },
 "nbformat": 4,
 "nbformat_minor": 5
}
