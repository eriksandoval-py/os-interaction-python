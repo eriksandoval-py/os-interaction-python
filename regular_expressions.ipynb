{
 "cells": [
  {
   "cell_type": "markdown",
   "id": "88d6382c-94f6-4bcd-889f-2ee85fc008d3",
   "metadata": {},
   "source": [
    "# Regular Expressions\n",
    "Regular expressions are extremely useful in data processing and textual searching. They can identify and return certain patterns of text. This is a lot easier than using the normal methods found inside of Python and other languages for text processing. "
   ]
  },
  {
   "cell_type": "markdown",
   "id": "6510875a-ad87-44e0-a4f8-b62349a77863",
   "metadata": {},
   "source": [
    "## Imports\n",
    "Python has a dedicated module that can be imported using `import re`. Run the following line code block to import the module:"
   ]
  },
  {
   "cell_type": "code",
   "execution_count": 1,
   "id": "b7a8278c-c0c6-4afb-8d96-da50f25ceea7",
   "metadata": {},
   "outputs": [],
   "source": [
    "import re"
   ]
  },
  {
   "cell_type": "markdown",
   "id": "610b960e-a7b5-4d88-a298-8aa6d395c4e0",
   "metadata": {},
   "source": [
    "Now that we have it imported we can begin to use it:"
   ]
  },
  {
   "cell_type": "code",
   "execution_count": 10,
   "id": "3d0ef139-5e5d-4b7a-8a53-ef6d5472a34d",
   "metadata": {},
   "outputs": [
    {
     "data": {
      "text/plain": [
       "<re.Match object; span=(0, 6), match='dragon'>"
      ]
     },
     "execution_count": 10,
     "metadata": {},
     "output_type": "execute_result"
    }
   ],
   "source": [
    "re.search(r'dragon', 'dragonball z')"
   ]
  },
  {
   "cell_type": "markdown",
   "id": "d93c3b12-5c24-4b81-802d-b895c3cebfd6",
   "metadata": {},
   "source": [
    "The `search()` method found inside of the `re` module returns a `re.Match` object that has both the span (the indices of the string where the match is found), as well as the match itself. "
   ]
  },
  {
   "cell_type": "markdown",
   "id": "def690cd-486b-41fe-aef4-fc78da062878",
   "metadata": {},
   "source": [
    "If there is no match then `None` is returned. "
   ]
  },
  {
   "cell_type": "markdown",
   "id": "c995441a-86b1-4bbc-b45e-68bd1f92034d",
   "metadata": {},
   "source": [
    "One more thing to keep in mind is that the best practice for regular expressions is to use `raw strings` - denoted by `r`. What this does is make Python not interpret special escape characters, etc. "
   ]
  },
  {
   "cell_type": "markdown",
   "id": "d47c404a-2635-4aca-8599-1876cc6a774d",
   "metadata": {},
   "source": [
    "## Character Classes and Wildcards"
   ]
  },
  {
   "cell_type": "markdown",
   "id": "219a1e78-df36-43b2-bde2-a46ca904403d",
   "metadata": {},
   "source": [
    "Here is a list of all the metacharacters:"
   ]
  },
  {
   "cell_type": "markdown",
   "id": "a970d435-6b2d-4de0-8d6d-8d78b0ce56ba",
   "metadata": {},
   "source": [
    "`. ^ $ * + ? { } [ ] \\ | ( )`"
   ]
  },
  {
   "cell_type": "markdown",
   "id": "325b10e2-856c-4d6b-af86-590bf89d2597",
   "metadata": {},
   "source": [
    "The first metacharacters we will look at are `[` and `]`. These can be used to specify character classes. Character classes are a set of characters you wish to match. Characters may be listed individually or with a range (a-z). Metacharacters are not active inside of `[]`, with the exception of `\\`"
   ]
  },
  {
   "cell_type": "markdown",
   "id": "694419de-fb3d-45b7-bb86-d8bd51d95f06",
   "metadata": {},
   "source": [
    "The `.` wildcard is the broadest of them all. It can match to any character. For example:"
   ]
  },
  {
   "cell_type": "code",
   "execution_count": 3,
   "id": "98ab626a-70f9-4ea9-8501-71c378a32ba9",
   "metadata": {},
   "outputs": [
    {
     "data": {
      "text/plain": [
       "<re.Match object; span=(0, 6), match='dragon'>"
      ]
     },
     "execution_count": 3,
     "metadata": {},
     "output_type": "execute_result"
    }
   ],
   "source": [
    "re.search(r'd.agon', 'dragon')"
   ]
  },
  {
   "cell_type": "code",
   "execution_count": 4,
   "id": "871870d2-21cb-4074-8c31-d5da02c9cc4e",
   "metadata": {},
   "outputs": [
    {
     "data": {
      "text/plain": [
       "<re.Match object; span=(0, 6), match='dwagon'>"
      ]
     },
     "execution_count": 4,
     "metadata": {},
     "output_type": "execute_result"
    }
   ],
   "source": [
    "re.search(r'd.agon', 'dwagon')"
   ]
  },
  {
   "cell_type": "markdown",
   "id": "add926a6-81f6-46e7-92f1-9788b84d8e69",
   "metadata": {},
   "source": [
    "As you can see, the `.` allows a match for both because it matches to any character. "
   ]
  },
  {
   "cell_type": "markdown",
   "id": "a2df544a-9a8e-43fe-93ae-b3d95d100f30",
   "metadata": {},
   "source": [
    "We can also pass other options like case sensitivity into our search function:"
   ]
  },
  {
   "cell_type": "code",
   "execution_count": 7,
   "id": "95acf765-0810-4ed8-8cac-51cfe9b51874",
   "metadata": {},
   "outputs": [
    {
     "data": {
      "text/plain": [
       "<re.Match object; span=(0, 6), match='DWAGON'>"
      ]
     },
     "execution_count": 7,
     "metadata": {},
     "output_type": "execute_result"
    }
   ],
   "source": [
    "re.search(r'd.agon', 'DWAGON', re.IGNORECASE)"
   ]
  },
  {
   "cell_type": "markdown",
   "id": "fb6d1bae-b146-40f8-8c72-c95b8cefb8c6",
   "metadata": {},
   "source": [
    "Now let's add character classes into the mix. Remember that character classes allow us to define a set or range of characters to attempt to match. Like so:"
   ]
  },
  {
   "cell_type": "code",
   "execution_count": 8,
   "id": "0f3c9e92-169c-4118-b5e0-42147faf16a4",
   "metadata": {},
   "outputs": [
    {
     "data": {
      "text/plain": [
       "<re.Match object; span=(0, 6), match='Dragon'>"
      ]
     },
     "execution_count": 8,
     "metadata": {},
     "output_type": "execute_result"
    }
   ],
   "source": [
    "re.search(r'[Dd]ragon', 'Dragonball z')"
   ]
  },
  {
   "cell_type": "code",
   "execution_count": 9,
   "id": "2d44a893-cbc6-4b61-bd1b-7f7ab2b6768f",
   "metadata": {},
   "outputs": [
    {
     "data": {
      "text/plain": [
       "<re.Match object; span=(0, 6), match='dragon'>"
      ]
     },
     "execution_count": 9,
     "metadata": {},
     "output_type": "execute_result"
    }
   ],
   "source": [
    "re.search(r'[Dd]ragon', 'dragonball z')"
   ]
  },
  {
   "cell_type": "markdown",
   "id": "32a70dd4-718e-4428-bc26-6a574f3e923a",
   "metadata": {},
   "source": [
    "Again, our search matches both. It will match either a lowercase or uppercase `D` followed by `ragon`. "
   ]
  },
  {
   "cell_type": "markdown",
   "id": "27ff7d83-76ce-431d-b0e8-fb6fdf924c3e",
   "metadata": {},
   "source": [
    "As mentioned earlier, character classes can also define a range:"
   ]
  },
  {
   "cell_type": "code",
   "execution_count": 11,
   "id": "9f971fe0-17e3-4d25-abbb-6b374b8a6131",
   "metadata": {},
   "outputs": [
    {
     "data": {
      "text/plain": [
       "<re.Match object; span=(0, 6), match='uragon'>"
      ]
     },
     "execution_count": 11,
     "metadata": {},
     "output_type": "execute_result"
    }
   ],
   "source": [
    "re.search(r'[a-zA-Z]ragon', 'uragon')"
   ]
  },
  {
   "cell_type": "code",
   "execution_count": 13,
   "id": "4f3484b9-66cd-454c-906c-6b4df129aaeb",
   "metadata": {},
   "outputs": [
    {
     "data": {
      "text/plain": [
       "<re.Match object; span=(0, 6), match='Eragon'>"
      ]
     },
     "execution_count": 13,
     "metadata": {},
     "output_type": "execute_result"
    }
   ],
   "source": [
    "re.search(r'[a-zA-Z]ragon', 'Eragon is a good movie')"
   ]
  },
  {
   "cell_type": "markdown",
   "id": "120d893d-a977-4691-b9eb-273e80ba4e33",
   "metadata": {},
   "source": [
    "You can combine as many ranges and symbols as want."
   ]
  },
  {
   "cell_type": "markdown",
   "id": "4c7811f3-5c63-4228-a82e-9581574637e0",
   "metadata": {},
   "source": [
    "Now for example let's say we wanted to match something not found in the character class. This is possible with the circumflex `^` or carrot symbol:"
   ]
  },
  {
   "cell_type": "code",
   "execution_count": 15,
   "id": "7fb7bef5-0ded-4611-bd77-4e5924b2e6f7",
   "metadata": {},
   "outputs": [
    {
     "data": {
      "text/plain": [
       "<re.Match object; span=(4, 5), match=' '>"
      ]
     },
     "execution_count": 15,
     "metadata": {},
     "output_type": "execute_result"
    }
   ],
   "source": [
    "re.search(r'[^a-zA-Z]', 'What is your favorite food?')"
   ]
  },
  {
   "cell_type": "markdown",
   "id": "bb06197b-1bd4-445a-8820-522ec7686d5b",
   "metadata": {},
   "source": [
    "The `^` can kind of be thought of as a not. In the above example it matches the first character found that is NOT in the character class. In this case it would be a space, since it was not added in the character class. Watch how quickly we can change that though:"
   ]
  },
  {
   "cell_type": "code",
   "execution_count": 16,
   "id": "f769984a-6739-45ed-99a9-17b58dc024ab",
   "metadata": {},
   "outputs": [
    {
     "data": {
      "text/plain": [
       "<re.Match object; span=(26, 27), match='?'>"
      ]
     },
     "execution_count": 16,
     "metadata": {},
     "output_type": "execute_result"
    }
   ],
   "source": [
    "re.search(r'[^a-zA-Z ]', 'What is your favorite food?')"
   ]
  },
  {
   "cell_type": "markdown",
   "id": "cc23dc15-e06c-4081-8983-c758d961c67b",
   "metadata": {},
   "source": [
    "Now that we added the space character into the character class, the only remaining option for a match would be the `?`. "
   ]
  },
  {
   "cell_type": "code",
   "execution_count": null,
   "id": "733cd768-231f-4993-bf49-1555188595c1",
   "metadata": {},
   "outputs": [],
   "source": []
  }
 ],
 "metadata": {
  "kernelspec": {
   "display_name": "Python 3 (ipykernel)",
   "language": "python",
   "name": "python3"
  },
  "language_info": {
   "codemirror_mode": {
    "name": "ipython",
    "version": 3
   },
   "file_extension": ".py",
   "mimetype": "text/x-python",
   "name": "python",
   "nbconvert_exporter": "python",
   "pygments_lexer": "ipython3",
   "version": "3.11.0"
  }
 },
 "nbformat": 4,
 "nbformat_minor": 5
}
